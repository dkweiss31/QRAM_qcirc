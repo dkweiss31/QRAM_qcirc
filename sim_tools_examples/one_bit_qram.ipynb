{
 "cells": [
  {
   "cell_type": "code",
   "execution_count": 1,
   "metadata": {},
   "outputs": [],
   "source": [
    "from qutip import mesolve, sesolve, basis, tensor, destroy, Qobj, sigmax, sigmay, sigmaz, qeye\n",
    "from qutip import liouvillian_ref, spre, spost, to_kraus\n",
    "from sim_tools import id_wrap_ops, project_U, construct_basis_states_list\n",
    "from qutip.qip.operations import hadamard_transform\n",
    "from itertools import product\n",
    "import numpy as np\n",
    "import cmath"
   ]
  },
  {
   "cell_type": "code",
   "execution_count": 2,
   "metadata": {},
   "outputs": [],
   "source": [
    "tmon_dim = 2\n",
    "cavity_dim = 4\n",
    "num_dof = 3\n",
    "address_idx = 0\n",
    "router_idx = 1\n",
    "bus_idx = 2\n",
    "truncated_dims = np.concatenate((list(product((cavity_dim,), repeat=2)), [tmon_dim]), axis=None)\n",
    "hilbert_dim = np.prod(truncated_dims)\n",
    "Fock_states_spec = [(i, 0, k) for i in range(2) for k in range(2)]\n",
    "\n",
    "# below is for gf manifold stuff\n",
    "# sz_gf = basis(3, 0) * basis(3, 0).dag() - basis(3, 2) * basis(3, 2).dag()\n",
    "# sx_gf = basis(3, 0) * basis(3, 2).dag() + basis(3, 2) * basis(3, 0).dag()\n",
    "# sy_gf = -1j * basis(3, 0) * basis(3, 2).dag() + 1j * basis(3, 2) * basis(3, 0).dag()\n",
    "# had_gf = (1.0 / np.sqrt(2)) * (basis(3, 0) * basis(3, 0).dag() + basis(3, 0) * basis(3, 2).dag()\n",
    "#                                + basis(3, 2) * basis(3, 0).dag() - basis(3, 2) * basis(3, 2).dag())\n",
    "# Fock_states_spec = [(i, j, k) for i in range(2) for j in range(2) for k in [0, 2]]\n",
    "#ee_Proj = id_wrap_ops(basis(3, 2) * basis(3, 2).dag(), bus_idx, truncated_dims)\n",
    "# sz = id_wrap_ops(sz_gf, bus_idx, truncated_dims)\n",
    "# sx = id_wrap_ops(sx_gf, bus_idx, truncated_dims)\n",
    "# sy = id_wrap_ops(sy_gf, bus_idx, truncated_dims)\n",
    "# had = id_wrap_ops(had_gf, bus_idx, truncated_dims)\n",
    "\n",
    "# below is for ordering cavity, cavity, tmon\n",
    "keep_idxs = [i * cavity_dim * tmon_dim + j * tmon_dim + k\n",
    "             for (i, j, k) in Fock_states_spec]\n",
    "ee_Proj = id_wrap_ops(basis(2, 1) * basis(2, 1).dag(), bus_idx, truncated_dims)\n",
    "sz = id_wrap_ops(sigmaz(), bus_idx, truncated_dims)\n",
    "sx = id_wrap_ops(sigmax(), bus_idx, truncated_dims)\n",
    "sy = id_wrap_ops(sigmay(), bus_idx, truncated_dims)\n",
    "had = id_wrap_ops(hadamard_transform(), bus_idx, truncated_dims)\n",
    "# a -> address, r -> router dispersively coupled to qubit\n",
    "r = id_wrap_ops(destroy(cavity_dim), router_idx, truncated_dims)\n",
    "a = id_wrap_ops(destroy(cavity_dim), address_idx, truncated_dims)"
   ]
  },
  {
   "cell_type": "code",
   "execution_count": 3,
   "metadata": {},
   "outputs": [],
   "source": [
    "def truncate_superoperator(superop, keep_idxs):\n",
    "    \"\"\"\n",
    "    Parameters\n",
    "    ----------\n",
    "    superop\n",
    "        superoperator to truncate. We consider the situation where certain\n",
    "        states are relevant for predicting time evolution, however the gate under consideration\n",
    "        does not care about the time evolution of those states themselves (with population \n",
    "        e.g. beginning in that state. \n",
    "    keep_idxs\n",
    "        indices of the states to keep\n",
    "    Returns\n",
    "    -------\n",
    "        truncated superoperator\n",
    "\n",
    "    \"\"\"\n",
    "    keep_dim = len(keep_idxs)\n",
    "    total_dim = hilbert_dim\n",
    "    trunc_dim = total_dim - keep_dim\n",
    "    truncated_mat = np.zeros((keep_dim ** 2, keep_dim ** 2), dtype=complex)\n",
    "    total_dim = keep_dim + trunc_dim\n",
    "    locs = [total_dim * keep_idx_i + keep_idx_j \n",
    "            for keep_idx_i in keep_idxs\n",
    "            for keep_idx_j in keep_idxs]\n",
    "    for i, loc_i in enumerate(locs):\n",
    "        for j, loc_j in enumerate(locs):\n",
    "            truncated_mat[i, j] = superop.data.toarray()[loc_i, loc_j]\n",
    "    return Qobj(truncated_mat, type='super', dims=[[[keep_dim], [keep_dim]],\n",
    "                                                   [[keep_dim], [keep_dim]]])\n",
    "\n",
    "def my_to_chi(q_oper):\n",
    "    \"\"\"\n",
    "    q_oper\n",
    "        superoperator to transform into chi matrix\n",
    "    \"\"\"\n",
    "    pauli_ops_oneq = [qeye(2) / 2, sigmax() / 2, \n",
    "                      sigmay() / 2, sigmaz() / 2]\n",
    "    pauli_ops = [Qobj(tensor(pauli_op1, pauli_op2), dims=[[4], [4]]) for pauli_op1 in pauli_ops_oneq\n",
    "                 for pauli_op2 in pauli_ops_oneq]\n",
    "    kraus_ops = to_kraus(q_oper)\n",
    "    e_ij_coeffs = np.array([[np.trace(kraus_op.dag() * pauli_op)\n",
    "                             for pauli_op in pauli_ops]\n",
    "                            for kraus_op in kraus_ops] \n",
    "                          )\n",
    "    return np.conjugate(e_ij_coeffs).T @ e_ij_coeffs\n",
    "\n",
    "def calc_fidel_chi(chi_real, chi_ideal):\n",
    "    return (4 * np.trace(chi_real @ chi_ideal) + np.trace(chi_real))/5"
   ]
  },
  {
   "cell_type": "code",
   "execution_count": 64,
   "metadata": {},
   "outputs": [],
   "source": [
    "chi = 2.0 * np.pi * 0.002 # 2 MHz chi\n",
    "g = chi / 4\n",
    "A = np.sqrt(2) * chi / 4\n",
    "Hdbs = (g * a * r.dag() + np.conj(g) * a.dag() * r\n",
    "     + 0.5 * chi * r.dag() * r * sz)\n",
    "H0 = 0.5 * chi * sz * r.dag() * r\n",
    "H0_e = -chi * ee_Proj * r.dag() * r\n",
    "t_dbs = np.pi / (2 * A)\n",
    "t_cz = t_idle = np.pi / chi\n",
    "\n",
    "tmon_d_strength = 2.0 * np.pi * 0.01\n",
    "\n",
    "\n",
    "def Rx(theta, c_ops=None):\n",
    "    if c_ops is None:\n",
    "        return (-1j * sx * theta / 2).expm()\n",
    "    else:\n",
    "        t = theta / tmon_d_strength\n",
    "        return (liouvillian_ref(tmon_d_strength * sx / 2, c_ops) * t).expm()\n",
    "    \n",
    "    \n",
    "def Ry(theta, c_ops=None):\n",
    "    if c_ops is None:\n",
    "        return (-1j * sy * theta / 2).expm()\n",
    "    else:\n",
    "        t = theta / tmon_d_strength\n",
    "        return (liouvillian_ref(tmon_d_strength * sy / 2, c_ops) * t).expm()\n",
    "    \n",
    "    \n",
    "def Rz(theta, c_ops=None):\n",
    "    if c_ops is None:\n",
    "        return (-1j * sz * theta / 2).expm()\n",
    "    else:\n",
    "        t = theta / tmon_d_strength\n",
    "        return (liouvillian_ref(tmon_d_strength * sz / 2, c_ops) * t).expm()    \n",
    "    \n",
    "    \n",
    "def U0(t, c_ops=None):\n",
    "    if c_ops is None:\n",
    "        return (-1j * t * H0).expm()\n",
    "    else:\n",
    "        return (liouvillian_ref(H0, c_ops) * t).expm()\n",
    "    \n",
    "    \n",
    "def Udbs(t, c_ops=None):\n",
    "    if c_ops is None:\n",
    "        return (-1j * Hdbs * t).expm()\n",
    "    else:\n",
    "        return (liouvillian_ref(Hdbs, c_ops) * t).expm()\n",
    "    \n",
    "    \n",
    "def U0_e(t, c_ops=None):\n",
    "    if c_ops is None:\n",
    "        return (-1j * t * H0_e).expm()\n",
    "    else:\n",
    "        return (liouvillian_ref(H0_e, c_ops) * t).expm()\n",
    "    \n",
    "\n",
    "def U_CNOT(c_ops=None):\n",
    "    return Ry(-np.pi/2, c_ops=c_ops) * U0(t_cz, c_ops=c_ops) * Ry(np.pi/2, c_ops=c_ops)\n",
    "\n",
    "\n",
    "def U_CNOT0(c_ops=None):\n",
    "    return Rx(-np.pi, c_ops=c_ops) * U_CNOT(c_ops=c_ops)\n",
    "\n",
    "\n",
    "def U_USWAP(c_ops=None):\n",
    "    return (\n",
    "        U0(t_idle, c_ops=c_ops) \n",
    "        * Rx(np.pi, c_ops=c_ops)\n",
    "        * Udbs(t_dbs, c_ops=c_ops)\n",
    "        * Rx(np.pi, c_ops=c_ops) \n",
    "        * Udbs(t_dbs, c_ops=c_ops) \n",
    "        * U0(t_idle, c_ops=c_ops)\n",
    "    )"
   ]
  },
  {
   "cell_type": "code",
   "execution_count": 5,
   "metadata": {},
   "outputs": [],
   "source": [
    "def construct_c_ops(Gamma_1_tmon, Gamma_phi_tmon, Gamma_1_res, Gamma_phi_res):\n",
    "    c_ops = [np.sqrt(Gamma_1_tmon) * id_wrap_ops(basis(2, 0) * basis(2, 1).dag(), bus_idx, truncated_dims),\n",
    "             np.sqrt(Gamma_phi_tmon) * sz,\n",
    "             np.sqrt(Gamma_1_res) * a, \n",
    "             np.sqrt(Gamma_1_res) * r,\n",
    "             np.sqrt(Gamma_phi_res) * a.dag() * a,  \n",
    "             np.sqrt(Gamma_phi_res) * r.dag() * r,  \n",
    "             ]\n",
    "    return c_ops"
   ]
  },
  {
   "cell_type": "code",
   "execution_count": 10,
   "metadata": {},
   "outputs": [],
   "source": [
    "# UCNOT = Ry(-np.pi / 2) * U0(t_cz) * Ry(np.pi / 2)\n",
    "# #UCNOT = Ry(np.pi / 2) * U0_e(t_cz) * Ry(-np.pi / 2)\n",
    "# #UCNOT0 = (-1)*Rx(-np.pi) * UCNOT\n",
    "# UCNOT0 = Rx(-np.pi) * Ry(-np.pi / 2) * U0(t_cz) * Ry(np.pi / 2)\n",
    "# U_USWAP = U0(t_idle) * Rx(np.pi) * Udbs(t_dbs) * Rx(np.pi) * Udbs * U0(t_idle)"
   ]
  },
  {
   "cell_type": "code",
   "execution_count": 67,
   "metadata": {},
   "outputs": [],
   "source": [
    "def U_QRAM(D0, D1, c_ops=None):\n",
    "    U_phase_computed = U0((D0 + D1) * t_cz, c_ops=c_ops)\n",
    "    U_USWAP_computed = U_USWAP(c_ops=c_ops)\n",
    "    if D0 == 0:\n",
    "        if D1 == 0:\n",
    "            return (\n",
    "                U_USWAP_computed\n",
    "                * U_phase_computed\n",
    "                * U_USWAP_computed\n",
    "            )\n",
    "        else:\n",
    "            return (\n",
    "                U_USWAP_computed\n",
    "                * U_phase_computed\n",
    "#                * U0(t_cz, c_ops=c_ops)\n",
    "                * U_CNOT(c_ops=c_ops)\n",
    "                * U_USWAP_computed\n",
    "            )\n",
    "    else:\n",
    "        if D1 == 0:\n",
    "            return (\n",
    "                U_USWAP_computed\n",
    "                * U_phase_computed\n",
    "#                * U0(t_cz, c_ops=c_ops)\n",
    "                * U_CNOT0(c_ops=c_ops)\n",
    "                * U_USWAP_computed\n",
    "            )\n",
    "        else:\n",
    "            return (\n",
    "                U_USWAP_computed \n",
    "                * U_phase_computed \n",
    "                * U_CNOT(c_ops=c_ops)\n",
    "                * U_CNOT0(c_ops=c_ops)\n",
    "#                * Rz(np.pi,c_ops=c_ops)\n",
    "                * U_USWAP_computed\n",
    "            )"
   ]
  },
  {
   "cell_type": "code",
   "execution_count": null,
   "metadata": {},
   "outputs": [],
   "source": [
    "D0 = 0\n",
    "D1 = 0\n",
    "\n",
    "ideal_prop_truncated = project_U(U_QRAM(D0, D1), Fock_states_spec, truncated_dims)\n",
    "chi_ideal = my_to_chi(spre(ideal_prop_truncated) * spost(ideal_prop_truncated.dag()))"
   ]
  },
  {
   "cell_type": "code",
   "execution_count": 7,
   "metadata": {},
   "outputs": [
    {
     "data": {
      "text/plain": [
       "(0.98151985932761+5.877471754111438e-40j)"
      ]
     },
     "execution_count": 7,
     "metadata": {},
     "output_type": "execute_result"
    }
   ],
   "source": [
    "T1_tmon = 150 * 10**3\n",
    "Tphi_tmon = 200 * 10**3\n",
    "T1_res = 1000 * 10**3\n",
    "Tphi_res = 10000 * 10**3\n",
    "c_ops = construct_c_ops(1/T1_tmon, 1/Tphi_tmon, 1/T1_res, 1/Tphi_res)\n",
    "\n",
    "numer_prop = U_QRAM(D0, D1, c_ops=c_ops)\n",
    "numer_prop_truncated = truncate_superoperator(numer_prop, keep_idxs)\n",
    "chi_numer = my_to_chi(numer_prop_truncated)\n",
    "\n",
    "calc_fidel_chi(chi_numer, chi_ideal)"
   ]
  },
  {
   "cell_type": "code",
   "execution_count": 46,
   "metadata": {},
   "outputs": [],
   "source": [
    "QRAM_instance = U_QRAM(0, 1)\n",
    "state00, state01, state10, state11  = construct_basis_states_list(((0, 0, 0), (0, 0, 1),\n",
    "                                                                   (1, 0, 0), (1, 0, 1)), truncated_dims)"
   ]
  },
  {
   "cell_type": "code",
   "execution_count": 50,
   "metadata": {},
   "outputs": [
    {
     "data": {
      "text/latex": [
       "Quantum object: dims = [[1], [1]], shape = (1, 1), type = bra\\begin{equation*}\\left(\\begin{array}{*{11}c}1.000j\\\\\\end{array}\\right)\\end{equation*}"
      ],
      "text/plain": [
       "Quantum object: dims = [[1], [1]], shape = (1, 1), type = bra\n",
       "Qobj data =\n",
       "[[0.+1.j]]"
      ]
     },
     "execution_count": 50,
     "metadata": {},
     "output_type": "execute_result"
    }
   ],
   "source": [
    "state11.dag() * QRAM_instance * state10"
   ]
  },
  {
   "cell_type": "code",
   "execution_count": 70,
   "metadata": {},
   "outputs": [
    {
     "data": {
      "text/latex": [
       "Quantum object: dims = [[4], [4]], shape = (4, 4), type = oper, isherm = False\\begin{equation*}\\left(\\begin{array}{*{11}c}1.0 & 0.0 & 0.0 & 0.0\\\\0.0 & 1.0 & 0.0 & 0.0\\\\0.0 & 0.0 & 0.0 & 1.000\\\\0.0 & 0.0 & -1.000 & 0.0\\\\\\end{array}\\right)\\end{equation*}"
      ],
      "text/plain": [
       "Quantum object: dims = [[4], [4]], shape = (4, 4), type = oper, isherm = False\n",
       "Qobj data =\n",
       "[[ 1.  0.  0.  0.]\n",
       " [ 0.  1.  0.  0.]\n",
       " [ 0.  0.  0.  1.]\n",
       " [ 0.  0. -1.  0.]]"
      ]
     },
     "execution_count": 70,
     "metadata": {},
     "output_type": "execute_result"
    }
   ],
   "source": [
    "U_QRAM_projected = project_U(U_QRAM(0, 1), Fock_states_spec, truncated_dims)\n",
    "U_QRAM_projected * np.exp(-1j * cmath.phase(np.sum(U_QRAM_projected[0, :])))"
   ]
  },
  {
   "cell_type": "code",
   "execution_count": 288,
   "metadata": {},
   "outputs": [
    {
     "data": {
      "text/latex": [
       "Quantum object: dims = [[8], [8]], shape = (8, 8), type = oper, isherm = True\\begin{equation*}\\left(\\begin{array}{*{11}c}1.0 & 0.0 & 0.0 & 0.0 & 0.0 & 0.0 & 0.0 & 0.0\\\\0.0 & 1.0 & 0.0 & 0.0 & 0.0 & 0.0 & 0.0 & 0.0\\\\0.0 & 0.0 & 0.0 & 0.0 & -1.0j & 0.0 & 0.0 & 0.0\\\\0.0 & 0.0 & 0.0 & 0.0 & 0.0 & -1.0j & 0.0 & 0.0\\\\0.0 & 0.0 & 1.000j & 0.0 & 0.0 & 0.0 & 0.0 & 0.0\\\\0.0 & 0.0 & 0.0 & 1.000j & 0.0 & 0.0 & 0.0 & 0.0\\\\0.0 & 0.0 & 0.0 & 0.0 & 0.0 & 0.0 & 1.000 & 0.0\\\\0.0 & 0.0 & 0.0 & 0.0 & 0.0 & 0.0 & 0.0 & 1.000\\\\\\end{array}\\right)\\end{equation*}"
      ],
      "text/plain": [
       "Quantum object: dims = [[8], [8]], shape = (8, 8), type = oper, isherm = True\n",
       "Qobj data =\n",
       "[[1.+0.j 0.+0.j 0.+0.j 0.+0.j 0.+0.j 0.+0.j 0.+0.j 0.+0.j]\n",
       " [0.+0.j 1.+0.j 0.+0.j 0.+0.j 0.+0.j 0.+0.j 0.+0.j 0.+0.j]\n",
       " [0.+0.j 0.+0.j 0.+0.j 0.+0.j 0.-1.j 0.+0.j 0.+0.j 0.+0.j]\n",
       " [0.+0.j 0.+0.j 0.+0.j 0.+0.j 0.+0.j 0.-1.j 0.+0.j 0.+0.j]\n",
       " [0.+0.j 0.+0.j 0.+1.j 0.+0.j 0.+0.j 0.+0.j 0.+0.j 0.+0.j]\n",
       " [0.+0.j 0.+0.j 0.+0.j 0.+1.j 0.+0.j 0.+0.j 0.+0.j 0.+0.j]\n",
       " [0.+0.j 0.+0.j 0.+0.j 0.+0.j 0.+0.j 0.+0.j 1.+0.j 0.+0.j]\n",
       " [0.+0.j 0.+0.j 0.+0.j 0.+0.j 0.+0.j 0.+0.j 0.+0.j 1.+0.j]]"
      ]
     },
     "execution_count": 288,
     "metadata": {},
     "output_type": "execute_result"
    }
   ],
   "source": [
    "U_USWAP_projected = project_U(U_USWAP, Fock_states_spec, truncated_dims)\n",
    "U_USWAP_projected * np.exp(-1j * cmath.phase(np.sum(U_USWAP_projected[0, :])))"
   ]
  },
  {
   "cell_type": "code",
   "execution_count": 25,
   "metadata": {},
   "outputs": [
    {
     "data": {
      "text/latex": [
       "Quantum object: dims = [[8], [8]], shape = (8, 8), type = oper, isherm = False\\begin{equation*}\\left(\\begin{array}{*{11}c}1.0 & 0.0 & 0.0 & 0.0 & 0.0 & 0.0 & 0.0 & 0.0\\\\0.0 & 1.0 & 0.0 & 0.0 & 0.0 & 0.0 & 0.0 & 0.0\\\\0.0 & 0.0 & 1.0j & 0.0 & 0.0 & 0.0 & 0.0 & 0.0\\\\0.0 & 0.0 & 0.0 & -1.0j & 0.0 & 0.0 & 0.0 & 0.0\\\\0.0 & 0.0 & 0.0 & 0.0 & 1.0 & 0.0 & 0.0 & 0.0\\\\0.0 & 0.0 & 0.0 & 0.0 & 0.0 & 1.0 & 0.0 & 0.0\\\\0.0 & 0.0 & 0.0 & 0.0 & 0.0 & 0.0 & 1.0j & 0.0\\\\0.0 & 0.0 & 0.0 & 0.0 & 0.0 & 0.0 & 0.0 & -1.0j\\\\\\end{array}\\right)\\end{equation*}"
      ],
      "text/plain": [
       "Quantum object: dims = [[8], [8]], shape = (8, 8), type = oper, isherm = False\n",
       "Qobj data =\n",
       "[[1.+0.j 0.+0.j 0.+0.j 0.+0.j 0.+0.j 0.+0.j 0.+0.j 0.+0.j]\n",
       " [0.+0.j 1.+0.j 0.+0.j 0.+0.j 0.+0.j 0.+0.j 0.+0.j 0.+0.j]\n",
       " [0.+0.j 0.+0.j 0.+1.j 0.+0.j 0.+0.j 0.+0.j 0.+0.j 0.+0.j]\n",
       " [0.+0.j 0.+0.j 0.+0.j 0.-1.j 0.+0.j 0.+0.j 0.+0.j 0.+0.j]\n",
       " [0.+0.j 0.+0.j 0.+0.j 0.+0.j 1.+0.j 0.+0.j 0.+0.j 0.+0.j]\n",
       " [0.+0.j 0.+0.j 0.+0.j 0.+0.j 0.+0.j 1.+0.j 0.+0.j 0.+0.j]\n",
       " [0.+0.j 0.+0.j 0.+0.j 0.+0.j 0.+0.j 0.+0.j 0.+1.j 0.+0.j]\n",
       " [0.+0.j 0.+0.j 0.+0.j 0.+0.j 0.+0.j 0.+0.j 0.+0.j 0.-1.j]]"
      ]
     },
     "execution_count": 25,
     "metadata": {},
     "output_type": "execute_result"
    }
   ],
   "source": [
    "U_CZ_projected = project_U(U0(3*t_idle), Fock_states_spec, truncated_dims)\n",
    "U_CZ_projected * np.exp(-1j * cmath.phase(np.sum(U_CZ_projected[0, :])))"
   ]
  },
  {
   "cell_type": "code",
   "execution_count": 281,
   "metadata": {},
   "outputs": [
    {
     "data": {
      "text/latex": [
       "Quantum object: dims = [[8], [8]], shape = (8, 8), type = oper, isherm = False\\begin{equation*}\\left(\\begin{array}{*{11}c}0.0 & 1.0j & 0.0 & 0.0 & 0.0 & 0.0 & 0.0 & 0.0\\\\1.0j & 0.0 & 0.0 & 0.0 & 0.0 & 0.0 & 0.0 & 0.0\\\\0.0 & 0.0 & -1.000 & 0.0 & 0.0 & 0.0 & 0.0 & 0.0\\\\0.0 & 0.0 & 0.0 & -1.0 & 0.0 & 0.0 & 0.0 & 0.0\\\\0.0 & 0.0 & 0.0 & 0.0 & 0.0 & 1.0j & 0.0 & 0.0\\\\0.0 & 0.0 & 0.0 & 0.0 & 1.0j & 0.0 & 0.0 & 0.0\\\\0.0 & 0.0 & 0.0 & 0.0 & 0.0 & 0.0 & -1.000 & 0.0\\\\0.0 & 0.0 & 0.0 & 0.0 & 0.0 & 0.0 & 0.0 & -1.0\\\\\\end{array}\\right)\\end{equation*}"
      ],
      "text/plain": [
       "Quantum object: dims = [[8], [8]], shape = (8, 8), type = oper, isherm = False\n",
       "Qobj data =\n",
       "[[ 0.+0.j  0.+1.j  0.+0.j  0.+0.j  0.+0.j  0.+0.j  0.+0.j  0.+0.j]\n",
       " [ 0.+1.j  0.+0.j  0.+0.j  0.+0.j  0.+0.j  0.+0.j  0.+0.j  0.+0.j]\n",
       " [ 0.+0.j  0.+0.j -1.+0.j  0.+0.j  0.+0.j  0.+0.j  0.+0.j  0.+0.j]\n",
       " [ 0.+0.j  0.+0.j  0.+0.j -1.+0.j  0.+0.j  0.+0.j  0.+0.j  0.+0.j]\n",
       " [ 0.+0.j  0.+0.j  0.+0.j  0.+0.j  0.+0.j  0.+1.j  0.+0.j  0.+0.j]\n",
       " [ 0.+0.j  0.+0.j  0.+0.j  0.+0.j  0.+1.j  0.+0.j  0.+0.j  0.+0.j]\n",
       " [ 0.+0.j  0.+0.j  0.+0.j  0.+0.j  0.+0.j  0.+0.j -1.+0.j  0.+0.j]\n",
       " [ 0.+0.j  0.+0.j  0.+0.j  0.+0.j  0.+0.j  0.+0.j  0.+0.j -1.+0.j]]"
      ]
     },
     "execution_count": 281,
     "metadata": {},
     "output_type": "execute_result"
    }
   ],
   "source": [
    "project_U(UCNOT0, Fock_states_spec, truncated_dims)"
   ]
  },
  {
   "cell_type": "code",
   "execution_count": 14,
   "metadata": {},
   "outputs": [
    {
     "data": {
      "text/latex": [
       "Quantum object: dims = [[8], [8]], shape = (8, 8), type = oper, isherm = False\\begin{equation*}\\left(\\begin{array}{*{11}c}0.0 & 0.0 & 0.0 & 0.0 & -1.0j & 0.0 & 0.0 & 0.0\\\\0.0 & 0.0 & 0.0 & 0.0 & 0.0 & -1.0j & 0.0 & 0.0\\\\0.0 & 0.0 & 1.0 & 0.0 & 0.0 & 0.0 & 0.0 & 0.0\\\\0.0 & 0.0 & 0.0 & 1.0 & 0.0 & 0.0 & 0.0 & 0.0\\\\-1.0j & 0.0 & 0.0 & 0.0 & 0.0 & 0.0 & 0.0 & 0.0\\\\0.0 & -1.0j & 0.0 & 0.0 & 0.0 & 0.0 & 0.0 & 0.0\\\\0.0 & 0.0 & 0.0 & 0.0 & 0.0 & 0.0 & 1.000 & 0.0\\\\0.0 & 0.0 & 0.0 & 0.0 & 0.0 & 0.0 & 0.0 & 1.000\\\\\\end{array}\\right)\\end{equation*}"
      ],
      "text/plain": [
       "Quantum object: dims = [[8], [8]], shape = (8, 8), type = oper, isherm = False\n",
       "Qobj data =\n",
       "[[0.+0.j 0.+0.j 0.+0.j 0.+0.j 0.-1.j 0.+0.j 0.+0.j 0.+0.j]\n",
       " [0.+0.j 0.+0.j 0.+0.j 0.+0.j 0.+0.j 0.-1.j 0.+0.j 0.+0.j]\n",
       " [0.+0.j 0.+0.j 1.+0.j 0.+0.j 0.+0.j 0.+0.j 0.+0.j 0.+0.j]\n",
       " [0.+0.j 0.+0.j 0.+0.j 1.+0.j 0.+0.j 0.+0.j 0.+0.j 0.+0.j]\n",
       " [0.-1.j 0.+0.j 0.+0.j 0.+0.j 0.+0.j 0.+0.j 0.+0.j 0.+0.j]\n",
       " [0.+0.j 0.-1.j 0.+0.j 0.+0.j 0.+0.j 0.+0.j 0.+0.j 0.+0.j]\n",
       " [0.+0.j 0.+0.j 0.+0.j 0.+0.j 0.+0.j 0.+0.j 1.+0.j 0.+0.j]\n",
       " [0.+0.j 0.+0.j 0.+0.j 0.+0.j 0.+0.j 0.+0.j 0.+0.j 1.+0.j]]"
      ]
     },
     "execution_count": 14,
     "metadata": {},
     "output_type": "execute_result"
    }
   ],
   "source": [
    "project_U(UCNOT0, Fock_states_spec, truncated_dims)"
   ]
  },
  {
   "cell_type": "code",
   "execution_count": 11,
   "metadata": {},
   "outputs": [
    {
     "data": {
      "text/latex": [
       "Quantum object: dims = [[8], [8]], shape = (8, 8), type = oper, isherm = True\\begin{equation*}\\left(\\begin{array}{*{11}c}1.0 & 0.0 & 0.0 & 0.0 & 0.0 & 0.0 & 0.0 & 0.0\\\\0.0 & 0.0 & 1.000j & 0.0 & 0.0 & 0.0 & 0.0 & 0.0\\\\0.0 & -1.0j & 0.0 & 0.0 & 0.0 & 0.0 & 0.0 & 0.0\\\\0.0 & 0.0 & 0.0 & 1.0 & 0.0 & 0.0 & 0.0 & 0.0\\\\0.0 & 0.0 & 0.0 & 0.0 & 1.0 & 0.0 & 0.0 & 0.0\\\\0.0 & 0.0 & 0.0 & 0.0 & 0.0 & 0.0 & 1.000j & 0.0\\\\0.0 & 0.0 & 0.0 & 0.0 & 0.0 & -1.0j & 0.0 & 0.0\\\\0.0 & 0.0 & 0.0 & 0.0 & 0.0 & 0.0 & 0.0 & 1.0\\\\\\end{array}\\right)\\end{equation*}"
      ],
      "text/plain": [
       "Quantum object: dims = [[8], [8]], shape = (8, 8), type = oper, isherm = True\n",
       "Qobj data =\n",
       "[[1.+0.j 0.+0.j 0.+0.j 0.+0.j 0.+0.j 0.+0.j 0.+0.j 0.+0.j]\n",
       " [0.+0.j 0.+0.j 0.+1.j 0.+0.j 0.+0.j 0.+0.j 0.+0.j 0.+0.j]\n",
       " [0.+0.j 0.-1.j 0.+0.j 0.+0.j 0.+0.j 0.+0.j 0.+0.j 0.+0.j]\n",
       " [0.+0.j 0.+0.j 0.+0.j 1.+0.j 0.+0.j 0.+0.j 0.+0.j 0.+0.j]\n",
       " [0.+0.j 0.+0.j 0.+0.j 0.+0.j 1.+0.j 0.+0.j 0.+0.j 0.+0.j]\n",
       " [0.+0.j 0.+0.j 0.+0.j 0.+0.j 0.+0.j 0.+0.j 0.+1.j 0.+0.j]\n",
       " [0.+0.j 0.+0.j 0.+0.j 0.+0.j 0.+0.j 0.-1.j 0.+0.j 0.+0.j]\n",
       " [0.+0.j 0.+0.j 0.+0.j 0.+0.j 0.+0.j 0.+0.j 0.+0.j 1.+0.j]]"
      ]
     },
     "execution_count": 11,
     "metadata": {},
     "output_type": "execute_result"
    }
   ],
   "source": [
    "U_USWAP = U0(t_idle) * sx * Udbs * sx * Udbs * U0(t_idle)\n",
    "project_U(U_USWAP, Fock_states_spec, truncated_dims)"
   ]
  },
  {
   "cell_type": "code",
   "execution_count": 8,
   "metadata": {},
   "outputs": [
    {
     "data": {
      "text/latex": [
       "Quantum object: dims = [[1], [1]], shape = (1, 1), type = bra\\begin{equation*}\\left(\\begin{array}{*{11}c}1.000j\\\\\\end{array}\\right)\\end{equation*}"
      ],
      "text/plain": [
       "Quantum object: dims = [[1], [1]], shape = (1, 1), type = bra\n",
       "Qobj data =\n",
       "[[0.+1.j]]"
      ]
     },
     "execution_count": 8,
     "metadata": {},
     "output_type": "execute_result"
    }
   ],
   "source": [
    "(tensor(basis(tmon_dim, 0), basis(cavity_dim, 0), basis(cavity_dim, 1)).dag() \n",
    " * full_prop * tensor(basis(tmon_dim, 0), basis(cavity_dim, 1), basis(cavity_dim, 0))\n",
    ")"
   ]
  },
  {
   "cell_type": "code",
   "execution_count": 68,
   "metadata": {},
   "outputs": [],
   "source": [
    "truncated_dims = [cavity_dim, cavity_dim]\n",
    "a = id_wrap_ops(destroy(cavity_dim), 0, truncated_dims)\n",
    "b = id_wrap_ops(destroy(cavity_dim), 1, truncated_dims)\n",
    "Lx = a.dag() * b + a * b.dag()\n",
    "Ly = -1j * (a.dag() * b - a * b.dag())\n",
    "Lz = a.dag() * a - b.dag() * b\n",
    "LI = a.dag() * a + b.dag() * b\n",
    "Omega_I = 2.0 * np.pi * 0.67\n",
    "Omega_x = 2.0 * np.pi * 0.43\n",
    "Omega_y = 2.0 * np.pi * 0.3\n",
    "Omega_z = 2.0 * np.pi * 0.23\n",
    "varphi = np.arctan(Omega_y / Omega_x)\n",
    "Omega_x_prime = np.sqrt(Omega_x**2 + Omega_y**2)\n",
    "theta = np.arctan(Omega_x_prime / Omega_z)\n",
    "Omega = np.sqrt(Omega_x**2 + Omega_y**2 + Omega_z**2)\n",
    "t = 1.0\n",
    "totalprop = (-1j * (Omega_x * Lx + Omega_y * Ly + Omega_z * Lz + Omega_I * LI) * t).expm()\n",
    "prop1 = (-1j * (Omega_x * Lx + Omega_y * Ly + Omega_z * Lz)).expm()\n",
    "prop2 = (-1j * varphi * Lz).expm() * (-1j * (Omega_x_prime * Lx)).expm() * (1j * varphi * Lz).expm()"
   ]
  },
  {
   "cell_type": "code",
   "execution_count": 69,
   "metadata": {},
   "outputs": [
    {
     "data": {
      "text/latex": [
       "Quantum object: dims = [[10], [10]], shape = (10, 10), type = oper, isherm = False\\begin{equation*}\\left(\\begin{array}{*{11}c}0.0 & (-0.179+0.361j) & 0.0 & 0.0 & (0.278+0.872j) & 0.0 & 0.0 & 0.0 & 0.0 & 0.0\\\\0.0 & 0.0 & (-0.253+0.511j) & 0.0 & 0.0 & (0.278+0.872j) & 0.0 & 0.0 & 0.0 & 0.0\\\\0.0 & 0.0 & 0.0 & (-0.309+0.626j) & 0.0 & 0.0 & (0.278+0.872j) & 0.0 & 0.0 & 0.0\\\\0.0 & 0.0 & 0.0 & 0.0 & 0.0 & 0.0 & 0.0 & (-0.171+0.285j) & 0.0 & 0.0\\\\0.0 & 0.0 & 0.0 & 0.0 & 0.0 & (-0.179+0.361j) & 0.0 & 0.0 & (0.393+1.233j) & 0.0\\\\0.0 & 0.0 & 0.0 & 0.0 & 0.0 & 0.0 & (-0.253+0.511j) & 0.0 & 0.0 & (0.393+1.233j)\\\\0.0 & 0.0 & 0.0 & 0.0 & 0.0 & 0.0 & 0.0 & (0.595-0.353j) & 0.0 & 0.0\\\\0.0 & 0.0 & 0.0 & 0.0 & 0.0 & 0.0 & 0.0 & 0.0 & 0.0 & 0.0\\\\0.0 & 0.0 & 0.0 & 0.0 & 0.0 & 0.0 & 0.0 & 0.0 & 0.0 & (-0.179+0.361j)\\\\0.0 & 0.0 & 0.0 & 0.0 & 0.0 & 0.0 & 0.0 & (-0.745+0.004j) & 0.0 & 0.0\\\\\\end{array}\\right)\\end{equation*}"
      ],
      "text/plain": [
       "Quantum object: dims = [[10], [10]], shape = (10, 10), type = oper, isherm = False\n",
       "Qobj data =\n",
       "[[ 0.        +0.j         -0.17857618+0.36136106j  0.        +0.j\n",
       "   0.        +0.j          0.27762958+0.87203816j  0.        +0.j\n",
       "   0.        +0.j          0.        +0.j          0.        +0.j\n",
       "   0.        +0.j        ]\n",
       " [ 0.        +0.j          0.        +0.j         -0.25254485+0.51104171j\n",
       "   0.        +0.j          0.        +0.j          0.27762958+0.87203816j\n",
       "   0.        +0.j          0.        +0.j          0.        +0.j\n",
       "   0.        +0.j        ]\n",
       " [ 0.        +0.j          0.        +0.j          0.        +0.j\n",
       "  -0.30930301+0.62589572j  0.        +0.j          0.        +0.j\n",
       "   0.27762958+0.87203816j  0.        +0.j          0.        +0.j\n",
       "   0.        +0.j        ]\n",
       " [ 0.        +0.j          0.        +0.j          0.        +0.j\n",
       "   0.        +0.j          0.        +0.j          0.        +0.j\n",
       "   0.        +0.j         -0.17127327+0.28535238j  0.        +0.j\n",
       "   0.        +0.j        ]\n",
       " [ 0.        +0.j          0.        +0.j          0.        +0.j\n",
       "   0.        +0.j          0.        +0.j         -0.17857618+0.36136106j\n",
       "   0.        +0.j          0.        +0.j          0.39262752+1.23324819j\n",
       "   0.        +0.j        ]\n",
       " [ 0.        +0.j          0.        +0.j          0.        +0.j\n",
       "   0.        +0.j          0.        +0.j          0.        +0.j\n",
       "  -0.25254485+0.51104171j  0.        +0.j          0.        +0.j\n",
       "   0.39262752+1.23324819j]\n",
       " [ 0.        +0.j          0.        +0.j          0.        +0.j\n",
       "   0.        +0.j          0.        +0.j          0.        +0.j\n",
       "   0.        +0.j          0.59461422-0.35291576j  0.        +0.j\n",
       "   0.        +0.j        ]\n",
       " [ 0.        +0.j          0.        +0.j          0.        +0.j\n",
       "   0.        +0.j          0.        +0.j          0.        +0.j\n",
       "   0.        +0.j          0.        +0.j          0.        +0.j\n",
       "   0.        +0.j        ]\n",
       " [ 0.        +0.j          0.        +0.j          0.        +0.j\n",
       "   0.        +0.j          0.        +0.j          0.        +0.j\n",
       "   0.        +0.j          0.        +0.j          0.        +0.j\n",
       "  -0.17857618+0.36136106j]\n",
       " [ 0.        +0.j          0.        +0.j          0.        +0.j\n",
       "   0.        +0.j          0.        +0.j          0.        +0.j\n",
       "   0.        +0.j         -0.7452805 +0.00409777j  0.        +0.j\n",
       "   0.        +0.j        ]]"
      ]
     },
     "execution_count": 69,
     "metadata": {},
     "output_type": "execute_result"
    }
   ],
   "source": [
    "Qobj((totalprop * a * totalprop.dag())[0:10,0:10])"
   ]
  },
  {
   "cell_type": "code",
   "execution_count": 79,
   "metadata": {},
   "outputs": [
    {
     "data": {
      "text/latex": [
       "Quantum object: dims = [[10], [10]], shape = (10, 10), type = oper, isherm = False\\begin{equation*}\\left(\\begin{array}{*{11}c}0.0 & (-0.179+0.361j) & 0.0 & 0.0 & (0.278+0.872j) & 0.0 & 0.0 & 0.0 & 0.0 & 0.0\\\\0.0 & 0.0 & (-0.253+0.511j) & 0.0 & 0.0 & (0.278+0.872j) & 0.0 & 0.0 & 0.0 & 0.0\\\\0.0 & 0.0 & 0.0 & (-0.309+0.626j) & 0.0 & 0.0 & (0.278+0.872j) & 0.0 & 0.0 & 0.0\\\\0.0 & 0.0 & 0.0 & 0.0 & 0.0 & 0.0 & 0.0 & (0.278+0.872j) & 0.0 & 0.0\\\\0.0 & 0.0 & 0.0 & 0.0 & 0.0 & (-0.179+0.361j) & 0.0 & 0.0 & (0.393+1.233j) & 0.0\\\\0.0 & 0.0 & 0.0 & 0.0 & 0.0 & 0.0 & (-0.253+0.511j) & 0.0 & 0.0 & (0.393+1.233j)\\\\0.0 & 0.0 & 0.0 & 0.0 & 0.0 & 0.0 & 0.0 & (-0.309+0.626j) & 0.0 & 0.0\\\\0.0 & 0.0 & 0.0 & 0.0 & 0.0 & 0.0 & 0.0 & 0.0 & 0.0 & 0.0\\\\0.0 & 0.0 & 0.0 & 0.0 & 0.0 & 0.0 & 0.0 & 0.0 & 0.0 & (-0.179+0.361j)\\\\0.0 & 0.0 & 0.0 & 0.0 & 0.0 & 0.0 & 0.0 & 0.0 & 0.0 & 0.0\\\\\\end{array}\\right)\\end{equation*}"
      ],
      "text/plain": [
       "Quantum object: dims = [[10], [10]], shape = (10, 10), type = oper, isherm = False\n",
       "Qobj data =\n",
       "[[ 0.        +0.j         -0.17857618+0.36136106j  0.        +0.j\n",
       "   0.        +0.j          0.27762958+0.87203816j  0.        +0.j\n",
       "   0.        +0.j          0.        +0.j          0.        +0.j\n",
       "   0.        +0.j        ]\n",
       " [ 0.        +0.j          0.        +0.j         -0.25254485+0.51104171j\n",
       "   0.        +0.j          0.        +0.j          0.27762958+0.87203816j\n",
       "   0.        +0.j          0.        +0.j          0.        +0.j\n",
       "   0.        +0.j        ]\n",
       " [ 0.        +0.j          0.        +0.j          0.        +0.j\n",
       "  -0.30930301+0.62589572j  0.        +0.j          0.        +0.j\n",
       "   0.27762958+0.87203816j  0.        +0.j          0.        +0.j\n",
       "   0.        +0.j        ]\n",
       " [ 0.        +0.j          0.        +0.j          0.        +0.j\n",
       "   0.        +0.j          0.        +0.j          0.        +0.j\n",
       "   0.        +0.j          0.27762958+0.87203816j  0.        +0.j\n",
       "   0.        +0.j        ]\n",
       " [ 0.        +0.j          0.        +0.j          0.        +0.j\n",
       "   0.        +0.j          0.        +0.j         -0.17857618+0.36136106j\n",
       "   0.        +0.j          0.        +0.j          0.39262752+1.23324819j\n",
       "   0.        +0.j        ]\n",
       " [ 0.        +0.j          0.        +0.j          0.        +0.j\n",
       "   0.        +0.j          0.        +0.j          0.        +0.j\n",
       "  -0.25254485+0.51104171j  0.        +0.j          0.        +0.j\n",
       "   0.39262752+1.23324819j]\n",
       " [ 0.        +0.j          0.        +0.j          0.        +0.j\n",
       "   0.        +0.j          0.        +0.j          0.        +0.j\n",
       "   0.        +0.j         -0.30930301+0.62589572j  0.        +0.j\n",
       "   0.        +0.j        ]\n",
       " [ 0.        +0.j          0.        +0.j          0.        +0.j\n",
       "   0.        +0.j          0.        +0.j          0.        +0.j\n",
       "   0.        +0.j          0.        +0.j          0.        +0.j\n",
       "   0.        +0.j        ]\n",
       " [ 0.        +0.j          0.        +0.j          0.        +0.j\n",
       "   0.        +0.j          0.        +0.j          0.        +0.j\n",
       "   0.        +0.j          0.        +0.j          0.        +0.j\n",
       "  -0.17857618+0.36136106j]\n",
       " [ 0.        +0.j          0.        +0.j          0.        +0.j\n",
       "   0.        +0.j          0.        +0.j          0.        +0.j\n",
       "   0.        +0.j          0.        +0.j          0.        +0.j\n",
       "   0.        +0.j        ]]"
      ]
     },
     "execution_count": 79,
     "metadata": {},
     "output_type": "execute_result"
    }
   ],
   "source": [
    "np.exp(1j * Omega_I * t) * Qobj(((np.cos(Omega * t) + 1j * np.cos(theta) * np.sin(Omega * t)) * a \n",
    " +1j * np.exp(-1j * varphi) * np.sin(Omega * t) * np.sin(theta) * b\n",
    ")[0:10,0:10])"
   ]
  },
  {
   "cell_type": "code",
   "execution_count": 84,
   "metadata": {},
   "outputs": [
    {
     "data": {
      "text/latex": [
       "Quantum object: dims = [[10], [10]], shape = (10, 10), type = oper, isherm = False\\begin{equation*}\\left(\\begin{array}{*{11}c}0.0 & (0.831+0.992j) & 0.0 & 0.0 & (-0.401-0.043j) & 0.0 & 0.0 & 0.0 & 0.0 & 0.0\\\\0.0 & 0.0 & (1.018+1.215j) & 0.0 & 0.0 & (-0.401-0.043j) & 0.0 & 0.0 & 0.0 & 0.0\\\\0.0 & 0.0 & 0.0 & 0.0 & 0.0 & 0.0 & (0.510+0.492j) & 0.0 & 0.0 & (0.653-0.311j)\\\\0.0 & 0.0 & 0.0 & 0.0 & (0.588+0.702j) & 0.0 & 0.0 & (-0.567-0.061j) & 0.0 & 0.0\\\\0.0 & 0.0 & 0.0 & 0.0 & 0.0 & (0.831+0.992j) & 0.0 & 0.0 & (-0.567-0.061j) & 0.0\\\\0.0 & 0.0 & 0.0 & 0.0 & 0.0 & 0.0 & (-0.070+0.332j) & 0.0 & 0.0 & (0.859+0.247j)\\\\0.0 & 0.0 & 0.0 & 0.0 & 0.0 & 0.0 & 0.0 & 0.0 & 0.0 & 0.0\\\\0.0 & 0.0 & 0.0 & 0.0 & 0.0 & 0.0 & 0.0 & 0.0 & (0.588+0.702j) & 0.0\\\\0.0 & 0.0 & 0.0 & 0.0 & 0.0 & 0.0 & (0.671-0.937j) & 0.0 & 0.0 & (-0.137-0.269j)\\\\0.0 & 0.0 & 0.0 & 0.0 & 0.0 & 0.0 & 0.0 & 0.0 & 0.0 & 0.0\\\\\\end{array}\\right)\\end{equation*}"
      ],
      "text/plain": [
       "Quantum object: dims = [[10], [10]], shape = (10, 10), type = oper, isherm = False\n",
       "Qobj data =\n",
       "[[ 0.        +0.j          0.83088554+0.99231381j  0.        +0.j\n",
       "   0.        +0.j         -0.40079314-0.04285009j  0.        +0.j\n",
       "   0.        +0.j          0.        +0.j          0.        +0.j\n",
       "   0.        +0.j        ]\n",
       " [ 0.        +0.j          0.        +0.j          1.0176228 +1.21533124j\n",
       "   0.        +0.j          0.        +0.j         -0.40079314-0.04285009j\n",
       "   0.        +0.j          0.        +0.j          0.        +0.j\n",
       "   0.        +0.j        ]\n",
       " [ 0.        +0.j          0.        +0.j          0.        +0.j\n",
       "   0.        +0.j          0.        +0.j          0.        +0.j\n",
       "   0.50994294+0.49180875j  0.        +0.j          0.        +0.j\n",
       "   0.65344439-0.31141465j]\n",
       " [ 0.        +0.j          0.        +0.j          0.        +0.j\n",
       "   0.        +0.j          0.5875248 +0.70167182j  0.        +0.j\n",
       "   0.        +0.j         -0.56680709-0.06059917j  0.        +0.j\n",
       "   0.        +0.j        ]\n",
       " [ 0.        +0.j          0.        +0.j          0.        +0.j\n",
       "   0.        +0.j          0.        +0.j          0.83088554+0.99231381j\n",
       "   0.        +0.j          0.        +0.j         -0.56680709-0.06059917j\n",
       "   0.        +0.j        ]\n",
       " [ 0.        +0.j          0.        +0.j          0.        +0.j\n",
       "   0.        +0.j          0.        +0.j          0.        +0.j\n",
       "  -0.06999888+0.33203521j  0.        +0.j          0.        +0.j\n",
       "   0.85934565+0.24668313j]\n",
       " [ 0.        +0.j          0.        +0.j          0.        +0.j\n",
       "   0.        +0.j          0.        +0.j          0.        +0.j\n",
       "   0.        +0.j          0.        +0.j          0.        +0.j\n",
       "   0.        +0.j        ]\n",
       " [ 0.        +0.j          0.        +0.j          0.        +0.j\n",
       "   0.        +0.j          0.        +0.j          0.        +0.j\n",
       "   0.        +0.j          0.        +0.j          0.5875248 +0.70167182j\n",
       "   0.        +0.j        ]\n",
       " [ 0.        +0.j          0.        +0.j          0.        +0.j\n",
       "   0.        +0.j          0.        +0.j          0.        +0.j\n",
       "   0.67073548-0.93703353j  0.        +0.j          0.        +0.j\n",
       "  -0.13687991-0.2690791j ]\n",
       " [ 0.        +0.j          0.        +0.j          0.        +0.j\n",
       "   0.        +0.j          0.        +0.j          0.        +0.j\n",
       "   0.        +0.j          0.        +0.j          0.        +0.j\n",
       "   0.        +0.j        ]]"
      ]
     },
     "execution_count": 84,
     "metadata": {},
     "output_type": "execute_result"
    }
   ],
   "source": [
    "Qobj((totalprop * b * totalprop.dag())[1:11,1:11])"
   ]
  },
  {
   "cell_type": "code",
   "execution_count": 85,
   "metadata": {},
   "outputs": [
    {
     "data": {
      "text/latex": [
       "Quantum object: dims = [[10], [10]], shape = (10, 10), type = oper, isherm = False\\begin{equation*}\\left(\\begin{array}{*{11}c}0.0 & (0.831+0.992j) & 0.0 & 0.0 & (-0.401-0.043j) & 0.0 & 0.0 & 0.0 & 0.0 & 0.0\\\\0.0 & 0.0 & (1.018+1.215j) & 0.0 & 0.0 & (-0.401-0.043j) & 0.0 & 0.0 & 0.0 & 0.0\\\\0.0 & 0.0 & 0.0 & 0.0 & 0.0 & 0.0 & (-0.401-0.043j) & 0.0 & 0.0 & 0.0\\\\0.0 & 0.0 & 0.0 & 0.0 & (0.588+0.702j) & 0.0 & 0.0 & (-0.567-0.061j) & 0.0 & 0.0\\\\0.0 & 0.0 & 0.0 & 0.0 & 0.0 & (0.831+0.992j) & 0.0 & 0.0 & (-0.567-0.061j) & 0.0\\\\0.0 & 0.0 & 0.0 & 0.0 & 0.0 & 0.0 & (1.018+1.215j) & 0.0 & 0.0 & (-0.567-0.061j)\\\\0.0 & 0.0 & 0.0 & 0.0 & 0.0 & 0.0 & 0.0 & 0.0 & 0.0 & 0.0\\\\0.0 & 0.0 & 0.0 & 0.0 & 0.0 & 0.0 & 0.0 & 0.0 & (0.588+0.702j) & 0.0\\\\0.0 & 0.0 & 0.0 & 0.0 & 0.0 & 0.0 & 0.0 & 0.0 & 0.0 & (0.831+0.992j)\\\\0.0 & 0.0 & 0.0 & 0.0 & 0.0 & 0.0 & 0.0 & 0.0 & 0.0 & 0.0\\\\\\end{array}\\right)\\end{equation*}"
      ],
      "text/plain": [
       "Quantum object: dims = [[10], [10]], shape = (10, 10), type = oper, isherm = False\n",
       "Qobj data =\n",
       "[[ 0.        +0.j          0.83088554+0.99231381j  0.        +0.j\n",
       "   0.        +0.j         -0.40079314-0.04285009j  0.        +0.j\n",
       "   0.        +0.j          0.        +0.j          0.        +0.j\n",
       "   0.        +0.j        ]\n",
       " [ 0.        +0.j          0.        +0.j          1.0176228 +1.21533124j\n",
       "   0.        +0.j          0.        +0.j         -0.40079314-0.04285009j\n",
       "   0.        +0.j          0.        +0.j          0.        +0.j\n",
       "   0.        +0.j        ]\n",
       " [ 0.        +0.j          0.        +0.j          0.        +0.j\n",
       "   0.        +0.j          0.        +0.j          0.        +0.j\n",
       "  -0.40079314-0.04285009j  0.        +0.j          0.        +0.j\n",
       "   0.        +0.j        ]\n",
       " [ 0.        +0.j          0.        +0.j          0.        +0.j\n",
       "   0.        +0.j          0.5875248 +0.70167182j  0.        +0.j\n",
       "   0.        +0.j         -0.56680709-0.06059917j  0.        +0.j\n",
       "   0.        +0.j        ]\n",
       " [ 0.        +0.j          0.        +0.j          0.        +0.j\n",
       "   0.        +0.j          0.        +0.j          0.83088554+0.99231381j\n",
       "   0.        +0.j          0.        +0.j         -0.56680709-0.06059917j\n",
       "   0.        +0.j        ]\n",
       " [ 0.        +0.j          0.        +0.j          0.        +0.j\n",
       "   0.        +0.j          0.        +0.j          0.        +0.j\n",
       "   1.0176228 +1.21533124j  0.        +0.j          0.        +0.j\n",
       "  -0.56680709-0.06059917j]\n",
       " [ 0.        +0.j          0.        +0.j          0.        +0.j\n",
       "   0.        +0.j          0.        +0.j          0.        +0.j\n",
       "   0.        +0.j          0.        +0.j          0.        +0.j\n",
       "   0.        +0.j        ]\n",
       " [ 0.        +0.j          0.        +0.j          0.        +0.j\n",
       "   0.        +0.j          0.        +0.j          0.        +0.j\n",
       "   0.        +0.j          0.        +0.j          0.5875248 +0.70167182j\n",
       "   0.        +0.j        ]\n",
       " [ 0.        +0.j          0.        +0.j          0.        +0.j\n",
       "   0.        +0.j          0.        +0.j          0.        +0.j\n",
       "   0.        +0.j          0.        +0.j          0.        +0.j\n",
       "   0.83088554+0.99231381j]\n",
       " [ 0.        +0.j          0.        +0.j          0.        +0.j\n",
       "   0.        +0.j          0.        +0.j          0.        +0.j\n",
       "   0.        +0.j          0.        +0.j          0.        +0.j\n",
       "   0.        +0.j        ]]"
      ]
     },
     "execution_count": 85,
     "metadata": {},
     "output_type": "execute_result"
    }
   ],
   "source": [
    "np.exp(1j * Omega_I * t) * Qobj(((np.cos(Omega * t) - 1j * np.cos(theta) * np.sin(Omega * t)) * b\n",
    " +1j * np.exp(1j * varphi) * np.sin(Omega * t) * np.sin(theta) * a\n",
    ")[1:11,1:11])"
   ]
  },
  {
   "cell_type": "code",
   "execution_count": 51,
   "metadata": {},
   "outputs": [],
   "source": [
    "theta = 2.0 * np.pi * 0.3\n",
    "prop3 = (1j * theta * Ly).expm() * a * (-1j * theta * Ly).expm()\n",
    "prop4 = np.cos(theta) * a - np.sin(theta) * b"
   ]
  },
  {
   "cell_type": "code",
   "execution_count": 52,
   "metadata": {},
   "outputs": [
    {
     "data": {
      "text/latex": [
       "Quantum object: dims = [[10], [10]], shape = (10, 10), type = oper, isherm = False\\begin{equation*}\\left(\\begin{array}{*{11}c}0.0 & -0.951 & 0.0 & 0.0 & -0.309 & 0.0 & 0.0 & 0.0 & 0.0 & 0.0\\\\0.0 & 0.0 & -1.345 & 0.0 & 0.0 & -0.309 & 0.0 & 0.0 & 0.0 & 0.0\\\\0.0 & 0.0 & 0.0 & -1.647 & 0.0 & 0.0 & -0.309 & 0.0 & 0.0 & 0.0\\\\0.0 & 0.0 & 0.0 & 0.0 & 0.0 & 0.0 & 0.0 & -0.003 & 0.0 & 0.0\\\\0.0 & 0.0 & 0.0 & 0.0 & 0.0 & -0.951 & 0.0 & 0.0 & -0.437 & 0.0\\\\0.0 & 0.0 & 0.0 & 0.0 & 0.0 & 0.0 & -1.345 & 0.0 & 0.0 & -0.437\\\\0.0 & 0.0 & 0.0 & 0.0 & 0.0 & 0.0 & 0.0 & 0.043 & 0.0 & 0.0\\\\0.0 & 0.0 & 0.0 & 0.0 & 0.0 & 0.0 & 0.0 & 0.0 & 0.0 & 0.0\\\\0.0 & 0.0 & 0.0 & 0.0 & 0.0 & 0.0 & 0.0 & 0.0 & 0.0 & -0.951\\\\0.0 & 0.0 & 0.0 & 0.0 & 0.0 & 0.0 & 0.0 & -0.297 & 0.0 & 0.0\\\\\\end{array}\\right)\\end{equation*}"
      ],
      "text/plain": [
       "Quantum object: dims = [[10], [10]], shape = (10, 10), type = oper, isherm = False\n",
       "Qobj data =\n",
       "[[ 0.         -0.95105652  0.          0.         -0.30901699  0.\n",
       "   0.          0.          0.          0.        ]\n",
       " [ 0.          0.         -1.34499702  0.          0.         -0.30901699\n",
       "   0.          0.          0.          0.        ]\n",
       " [ 0.          0.          0.         -1.64727821  0.          0.\n",
       "  -0.30901699  0.          0.          0.        ]\n",
       " [ 0.          0.          0.          0.          0.          0.\n",
       "   0.         -0.003353    0.          0.        ]\n",
       " [ 0.          0.          0.          0.          0.         -0.95105652\n",
       "   0.          0.         -0.43701602  0.        ]\n",
       " [ 0.          0.          0.          0.          0.          0.\n",
       "  -1.34499702  0.          0.         -0.43701602]\n",
       " [ 0.          0.          0.          0.          0.          0.\n",
       "   0.          0.04348496  0.          0.        ]\n",
       " [ 0.          0.          0.          0.          0.          0.\n",
       "   0.          0.          0.          0.        ]\n",
       " [ 0.          0.          0.          0.          0.          0.\n",
       "   0.          0.          0.         -0.95105652]\n",
       " [ 0.          0.          0.          0.          0.          0.\n",
       "   0.         -0.29736409  0.          0.        ]]"
      ]
     },
     "execution_count": 52,
     "metadata": {},
     "output_type": "execute_result"
    }
   ],
   "source": [
    "Qobj(prop3[0:10,0:10])"
   ]
  },
  {
   "cell_type": "code",
   "execution_count": 53,
   "metadata": {},
   "outputs": [
    {
     "data": {
      "text/latex": [
       "Quantum object: dims = [[10], [10]], shape = (10, 10), type = oper, isherm = False\\begin{equation*}\\left(\\begin{array}{*{11}c}0.0 & -0.951 & 0.0 & 0.0 & -0.309 & 0.0 & 0.0 & 0.0 & 0.0 & 0.0\\\\0.0 & 0.0 & -1.345 & 0.0 & 0.0 & -0.309 & 0.0 & 0.0 & 0.0 & 0.0\\\\0.0 & 0.0 & 0.0 & -1.647 & 0.0 & 0.0 & -0.309 & 0.0 & 0.0 & 0.0\\\\0.0 & 0.0 & 0.0 & 0.0 & 0.0 & 0.0 & 0.0 & -0.309 & 0.0 & 0.0\\\\0.0 & 0.0 & 0.0 & 0.0 & 0.0 & -0.951 & 0.0 & 0.0 & -0.437 & 0.0\\\\0.0 & 0.0 & 0.0 & 0.0 & 0.0 & 0.0 & -1.345 & 0.0 & 0.0 & -0.437\\\\0.0 & 0.0 & 0.0 & 0.0 & 0.0 & 0.0 & 0.0 & -1.647 & 0.0 & 0.0\\\\0.0 & 0.0 & 0.0 & 0.0 & 0.0 & 0.0 & 0.0 & 0.0 & 0.0 & 0.0\\\\0.0 & 0.0 & 0.0 & 0.0 & 0.0 & 0.0 & 0.0 & 0.0 & 0.0 & -0.951\\\\0.0 & 0.0 & 0.0 & 0.0 & 0.0 & 0.0 & 0.0 & 0.0 & 0.0 & 0.0\\\\\\end{array}\\right)\\end{equation*}"
      ],
      "text/plain": [
       "Quantum object: dims = [[10], [10]], shape = (10, 10), type = oper, isherm = False\n",
       "Qobj data =\n",
       "[[ 0.         -0.95105652  0.          0.         -0.30901699  0.\n",
       "   0.          0.          0.          0.        ]\n",
       " [ 0.          0.         -1.34499702  0.          0.         -0.30901699\n",
       "   0.          0.          0.          0.        ]\n",
       " [ 0.          0.          0.         -1.64727821  0.          0.\n",
       "  -0.30901699  0.          0.          0.        ]\n",
       " [ 0.          0.          0.          0.          0.          0.\n",
       "   0.         -0.30901699  0.          0.        ]\n",
       " [ 0.          0.          0.          0.          0.         -0.95105652\n",
       "   0.          0.         -0.43701602  0.        ]\n",
       " [ 0.          0.          0.          0.          0.          0.\n",
       "  -1.34499702  0.          0.         -0.43701602]\n",
       " [ 0.          0.          0.          0.          0.          0.\n",
       "   0.         -1.64727821  0.          0.        ]\n",
       " [ 0.          0.          0.          0.          0.          0.\n",
       "   0.          0.          0.          0.        ]\n",
       " [ 0.          0.          0.          0.          0.          0.\n",
       "   0.          0.          0.         -0.95105652]\n",
       " [ 0.          0.          0.          0.          0.          0.\n",
       "   0.          0.          0.          0.        ]]"
      ]
     },
     "execution_count": 53,
     "metadata": {},
     "output_type": "execute_result"
    }
   ],
   "source": [
    "Qobj(prop4[0:10,0:10])"
   ]
  },
  {
   "cell_type": "code",
   "execution_count": 34,
   "metadata": {},
   "outputs": [
    {
     "data": {
      "text/plain": [
       "True"
      ]
     },
     "execution_count": 34,
     "metadata": {},
     "output_type": "execute_result"
    }
   ],
   "source": [
    "prop1 == prop2"
   ]
  },
  {
   "cell_type": "code",
   "execution_count": 35,
   "metadata": {},
   "outputs": [
    {
     "data": {
      "text/latex": [
       "Quantum object: dims = [[3, 4, 4], [3, 4, 4]], shape = (48, 48), type = oper, isherm = False\\begin{equation*}\\left(\\begin{array}{*{11}c}1.0 & 0.0 & 0.0 & 0.0 & 0.0 & \\cdots & 0.0 & 0.0 & 0.0 & 0.0 & 0.0\\\\0.0 & -0.224 & 0.0 & 0.0 & (-0.778+0.587j) & \\cdots & 0.0 & 0.0 & 0.0 & 0.0 & 0.0\\\\0.0 & 0.0 & 0.050 & 0.0 & 0.0 & \\cdots & 0.0 & 0.0 & 0.0 & 0.0 & 0.0\\\\0.0 & 0.0 & 0.0 & -0.011 & 0.0 & \\cdots & 0.0 & 0.0 & 0.0 & 0.0 & 0.0\\\\0.0 & (0.778+0.587j) & 0.0 & 0.0 & -0.224 & \\cdots & 0.0 & 0.0 & 0.0 & 0.0 & 0.0\\\\\\vdots & \\vdots & \\vdots & \\vdots & \\vdots & \\ddots & \\vdots & \\vdots & \\vdots & \\vdots & \\vdots\\\\0.0 & 0.0 & 0.0 & 0.0 & 0.0 & \\cdots & 0.628 & 0.0 & 0.0 & (0.621-0.469j) & 0.0\\\\0.0 & 0.0 & 0.0 & 0.0 & 0.0 & \\cdots & 0.0 & -0.011 & 0.0 & 0.0 & 0.0\\\\0.0 & 0.0 & 0.0 & 0.0 & 0.0 & \\cdots & 0.0 & 0.0 & 0.007 & 0.0 & 0.0\\\\0.0 & 0.0 & 0.0 & 0.0 & 0.0 & \\cdots & (-0.621-0.469j) & 0.0 & 0.0 & 0.628 & 0.0\\\\0.0 & 0.0 & 0.0 & 0.0 & 0.0 & \\cdots & 0.0 & 0.0 & 0.0 & 0.0 & 1.0\\\\\\end{array}\\right)\\end{equation*}"
      ],
      "text/plain": [
       "Quantum object: dims = [[3, 4, 4], [3, 4, 4]], shape = (48, 48), type = oper, isherm = False\n",
       "Qobj data =\n",
       "[[ 1.        +0.j  0.        +0.j  0.        +0.j ...  0.        +0.j\n",
       "   0.        +0.j  0.        +0.j]\n",
       " [ 0.        +0.j -0.22425361+0.j  0.        +0.j ...  0.        +0.j\n",
       "   0.        +0.j  0.        +0.j]\n",
       " [ 0.        +0.j  0.        +0.j  0.05028968+0.j ...  0.        +0.j\n",
       "   0.        +0.j  0.        +0.j]\n",
       " ...\n",
       " [ 0.        +0.j  0.        +0.j  0.        +0.j ...  0.00697846+0.j\n",
       "   0.        +0.j  0.        +0.j]\n",
       " [ 0.        +0.j  0.        +0.j  0.        +0.j ...  0.        +0.j\n",
       "   0.62765026+0.j  0.        +0.j]\n",
       " [ 0.        +0.j  0.        +0.j  0.        +0.j ...  0.        +0.j\n",
       "   0.        +0.j  1.        +0.j]]"
      ]
     },
     "execution_count": 35,
     "metadata": {},
     "output_type": "execute_result"
    }
   ],
   "source": [
    "prop1"
   ]
  },
  {
   "cell_type": "code",
   "execution_count": 33,
   "metadata": {},
   "outputs": [
    {
     "data": {
      "text/latex": [
       "Quantum object: dims = [[3, 4, 4], [3, 4, 4]], shape = (48, 48), type = oper, isherm = False\\begin{equation*}\\left(\\begin{array}{*{11}c}1.0 & 0.0 & 0.0 & 0.0 & 0.0 & \\cdots & 0.0 & 0.0 & 0.0 & 0.0 & 0.0\\\\0.0 & -0.224 & 0.0 & 0.0 & (-0.778+0.587j) & \\cdots & 0.0 & 0.0 & 0.0 & 0.0 & 0.0\\\\0.0 & 0.0 & 0.050 & 0.0 & 0.0 & \\cdots & 0.0 & 0.0 & 0.0 & 0.0 & 0.0\\\\0.0 & 0.0 & 0.0 & -0.011 & 0.0 & \\cdots & 0.0 & 0.0 & 0.0 & 0.0 & 0.0\\\\0.0 & (0.778+0.587j) & 0.0 & 0.0 & -0.224 & \\cdots & 0.0 & 0.0 & 0.0 & 0.0 & 0.0\\\\\\vdots & \\vdots & \\vdots & \\vdots & \\vdots & \\ddots & \\vdots & \\vdots & \\vdots & \\vdots & \\vdots\\\\0.0 & 0.0 & 0.0 & 0.0 & 0.0 & \\cdots & 0.628 & 0.0 & 0.0 & (0.621-0.469j) & 0.0\\\\0.0 & 0.0 & 0.0 & 0.0 & 0.0 & \\cdots & 0.0 & -0.011 & 0.0 & 0.0 & 0.0\\\\0.0 & 0.0 & 0.0 & 0.0 & 0.0 & \\cdots & 0.0 & 0.0 & 0.007 & 0.0 & 0.0\\\\0.0 & 0.0 & 0.0 & 0.0 & 0.0 & \\cdots & (-0.621-0.469j) & 0.0 & 0.0 & 0.628 & 0.0\\\\0.0 & 0.0 & 0.0 & 0.0 & 0.0 & \\cdots & 0.0 & 0.0 & 0.0 & 0.0 & 1.0\\\\\\end{array}\\right)\\end{equation*}"
      ],
      "text/plain": [
       "Quantum object: dims = [[3, 4, 4], [3, 4, 4]], shape = (48, 48), type = oper, isherm = False\n",
       "Qobj data =\n",
       "[[ 1.        +0.j  0.        +0.j  0.        +0.j ...  0.        +0.j\n",
       "   0.        +0.j  0.        +0.j]\n",
       " [ 0.        +0.j -0.22425361+0.j  0.        +0.j ...  0.        +0.j\n",
       "   0.        +0.j  0.        +0.j]\n",
       " [ 0.        +0.j  0.        +0.j  0.05028968+0.j ...  0.        +0.j\n",
       "   0.        +0.j  0.        +0.j]\n",
       " ...\n",
       " [ 0.        +0.j  0.        +0.j  0.        +0.j ...  0.00697846+0.j\n",
       "   0.        +0.j  0.        +0.j]\n",
       " [ 0.        +0.j  0.        +0.j  0.        +0.j ...  0.        +0.j\n",
       "   0.62765026+0.j  0.        +0.j]\n",
       " [ 0.        +0.j  0.        +0.j  0.        +0.j ...  0.        +0.j\n",
       "   0.        +0.j  1.        +0.j]]"
      ]
     },
     "execution_count": 33,
     "metadata": {},
     "output_type": "execute_result"
    }
   ],
   "source": [
    "prop2"
   ]
  },
  {
   "cell_type": "code",
   "execution_count": 47,
   "metadata": {},
   "outputs": [],
   "source": [
    "# testing\n",
    "Omega_x = 0.34\n",
    "Omega_y = 0.83\n",
    "Omega_z = 0.77\n",
    "t = 10.0\n",
    "varphi = np.arctan(Omega_y / Omega_x)\n",
    "Omega_x_prime = np.sqrt(Omega_x**2 + Omega_y**2)\n",
    "theta = np.arctan(Omega_x_prime / Omega_z)\n",
    "Omega = np.sqrt(Omega_x**2 + Omega_y**2 + Omega_z**2)\n",
    "prop1 = (-1j * (Omega_x * sigmax() + Omega_y * sigmay() + Omega_z * sigmaz()) * t).expm()\n",
    "prop2 = ((-1j * 0.5 * varphi * sigmaz()).expm()\n",
    "         * (-1j * 0.5 * theta * sigmay()).expm()\n",
    "         * (-1j * Omega * sigmaz() * t).expm()\n",
    "         * (1j * 0.5 * theta * sigmay()).expm()\n",
    "         * (1j * 0.5 * varphi * sigmaz()).expm()\n",
    "        )"
   ]
  },
  {
   "cell_type": "code",
   "execution_count": 48,
   "metadata": {},
   "outputs": [
    {
     "data": {
      "text/latex": [
       "Quantum object: dims = [[2], [2]], shape = (2, 2), type = oper, isherm = False\\begin{equation*}\\left(\\begin{array}{*{11}c}(0.735+0.442j) & (0.476+0.195j)\\\\(-0.476+0.195j) & (0.735-0.442j)\\\\\\end{array}\\right)\\end{equation*}"
      ],
      "text/plain": [
       "Quantum object: dims = [[2], [2]], shape = (2, 2), type = oper, isherm = False\n",
       "Qobj data =\n",
       "[[ 0.73495015+0.44171041j  0.47612941+0.19504096j]\n",
       " [-0.47612941+0.19504096j  0.73495015-0.44171041j]]"
      ]
     },
     "execution_count": 48,
     "metadata": {},
     "output_type": "execute_result"
    }
   ],
   "source": [
    "prop1"
   ]
  },
  {
   "cell_type": "code",
   "execution_count": 49,
   "metadata": {},
   "outputs": [
    {
     "data": {
      "text/latex": [
       "Quantum object: dims = [[2], [2]], shape = (2, 2), type = oper, isherm = False\\begin{equation*}\\left(\\begin{array}{*{11}c}(0.735+0.442j) & (0.476+0.195j)\\\\(-0.476+0.195j) & (0.735-0.442j)\\\\\\end{array}\\right)\\end{equation*}"
      ],
      "text/plain": [
       "Quantum object: dims = [[2], [2]], shape = (2, 2), type = oper, isherm = False\n",
       "Qobj data =\n",
       "[[ 0.73495015+0.44171041j  0.47612941+0.19504096j]\n",
       " [-0.47612941+0.19504096j  0.73495015-0.44171041j]]"
      ]
     },
     "execution_count": 49,
     "metadata": {},
     "output_type": "execute_result"
    }
   ],
   "source": [
    "prop2"
   ]
  },
  {
   "cell_type": "code",
   "execution_count": null,
   "metadata": {},
   "outputs": [],
   "source": []
  }
 ],
 "metadata": {
  "kernelspec": {
   "display_name": "Python 3 (ipykernel)",
   "language": "python",
   "name": "python3"
  },
  "language_info": {
   "codemirror_mode": {
    "name": "ipython",
    "version": 3
   },
   "file_extension": ".py",
   "mimetype": "text/x-python",
   "name": "python",
   "nbconvert_exporter": "python",
   "pygments_lexer": "ipython3",
   "version": "3.10.4"
  }
 },
 "nbformat": 4,
 "nbformat_minor": 1
}
